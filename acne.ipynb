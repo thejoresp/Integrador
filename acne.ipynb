{
  "cells": [
    {
      "cell_type": "markdown",
      "id": "C_M7FvyDwMl0",
      "metadata": {
        "id": "C_M7FvyDwMl0"
      },
      "source": [
        "# Piel Sana IA"
      ]
    },
    {
      "cell_type": "markdown",
      "id": "MPI-m_3P0je1",
      "metadata": {
        "id": "MPI-m_3P0je1"
      },
      "source": [
        "# Importamos librerías"
      ]
    },
    {
      "cell_type": "code",
      "execution_count": null,
      "id": "cf275cbd",
      "metadata": {
        "id": "cf275cbd"
      },
      "outputs": [],
      "source": [
        "import tensorflow as tf\n",
        "from tensorflow.keras.preprocessing.image import ImageDataGenerator\n",
        "from tensorflow.keras.applications import MobileNetV2\n",
        "from tensorflow.keras.models import Model\n",
        "from tensorflow.keras.layers import Dense, GlobalAveragePooling2D\n",
        "import os"
      ]
    },
    {
      "cell_type": "markdown",
      "id": "CSTMLTjJvxKY",
      "metadata": {
        "id": "CSTMLTjJvxKY"
      },
      "source": [
        "\n",
        "#**Clasificación de Imágenes de Acné**\n",
        "\n",
        "## Este notebook entrena un modelo de deep learning usando MobileNetV2 para clasificar imágenes relacionadas con casos de acné.\n",
        "\n",
        "### Pasos principales\n",
        "### - Descompresión y preparación de datos.\n",
        "### - Exploración visual.\n",
        "### - Construcción del modelo.\n",
        "### - Entrenamiento y evaluación."
      ]
    },
    {
      "cell_type": "markdown",
      "id": "Je3S4J9l0V6H",
      "metadata": {
        "id": "Je3S4J9l0V6H"
      },
      "source": [
        "# Descomprensión"
      ]
    },
    {
      "cell_type": "code",
      "execution_count": null,
      "id": "kABWmDLqrTZE",
      "metadata": {
        "id": "kABWmDLqrTZE"
      },
      "outputs": [],
      "source": [
        "!unzip -q /content/dataset.zip -d /content/dataset"
      ]
    },
    {
      "cell_type": "markdown",
      "id": "8Is2F-jEyYBg",
      "metadata": {
        "id": "8Is2F-jEyYBg"
      },
      "source": [
        "# Preparación de datos"
      ]
    },
    {
      "cell_type": "code",
      "execution_count": null,
      "id": "04b89302",
      "metadata": {
        "colab": {
          "base_uri": "https://localhost:8080/"
        },
        "id": "04b89302",
        "outputId": "161ff6cf-7156-4b2d-f5a0-9fe60d5bf00f"
      },
      "outputs": [
        {
          "name": "stdout",
          "output_type": "stream",
          "text": [
            "Found 1462 images belonging to 2 classes.\n",
            "Found 300 images belonging to 2 classes.\n",
            "Found 300 images belonging to 2 classes.\n"
          ]
        }
      ],
      "source": [
        "img_size = (224, 224)\n",
        "batch_size = 32\n",
        "\n",
        "train_datagen = ImageDataGenerator(\n",
        "    rescale=1./255,\n",
        "    rotation_range=20,\n",
        "    zoom_range=0.1,\n",
        "    horizontal_flip=True\n",
        ")\n",
        "\n",
        "val_test_datagen = ImageDataGenerator(rescale=1./255)\n",
        "\n",
        "train_gen = train_datagen.flow_from_directory(\n",
        "    'dataset/dataset/train',\n",
        "    target_size=img_size,\n",
        "    batch_size=batch_size,\n",
        "    class_mode='binary'\n",
        ")\n",
        "\n",
        "val_gen = val_test_datagen.flow_from_directory(\n",
        "    'dataset/dataset/val',\n",
        "    target_size=img_size,\n",
        "    batch_size=batch_size,\n",
        "    class_mode='binary'\n",
        ")\n",
        "\n",
        "test_gen = val_test_datagen.flow_from_directory(\n",
        "    'dataset/dataset/test',\n",
        "    target_size=img_size,\n",
        "    batch_size=batch_size,\n",
        "    class_mode='binary',\n",
        "    shuffle=False\n",
        ")\n"
      ]
    },
    {
      "cell_type": "code",
      "execution_count": null,
      "id": "79564647",
      "metadata": {
        "colab": {
          "base_uri": "https://localhost:8080/"
        },
        "id": "79564647",
        "outputId": "2aebff9f-151c-41f4-8946-e98853ac9beb"
      },
      "outputs": [
        {
          "name": "stdout",
          "output_type": "stream",
          "text": [
            "Downloading data from https://storage.googleapis.com/tensorflow/keras-applications/mobilenet_v2/mobilenet_v2_weights_tf_dim_ordering_tf_kernels_1.0_224_no_top.h5\n",
            "\u001b[1m9406464/9406464\u001b[0m \u001b[32m━━━━━━━━━━━━━━━━━━━━\u001b[0m\u001b[37m\u001b[0m \u001b[1m2s\u001b[0m 0us/step\n"
          ]
        }
      ],
      "source": [
        "base_model = MobileNetV2(weights='imagenet', include_top=False, input_shape=(224, 224, 3))\n",
        "base_model.trainable = False\n",
        "\n",
        "x = base_model.output\n",
        "x = GlobalAveragePooling2D()(x)\n",
        "x = Dense(128, activation='relu')(x)\n",
        "predictions = Dense(1, activation='sigmoid')(x)\n",
        "\n",
        "model = Model(inputs=base_model.input, outputs=predictions)\n"
      ]
    },
    {
      "cell_type": "markdown",
      "id": "ESAqR6FF0Pkc",
      "metadata": {
        "id": "ESAqR6FF0Pkc"
      },
      "source": [
        "# Entrenamiento"
      ]
    },
    {
      "cell_type": "code",
      "execution_count": null,
      "id": "1658d9c0",
      "metadata": {
        "colab": {
          "base_uri": "https://localhost:8080/"
        },
        "id": "1658d9c0",
        "outputId": "8f869a6e-7e89-438e-9965-e1ba6b1e61f4"
      },
      "outputs": [
        {
          "name": "stderr",
          "output_type": "stream",
          "text": [
            "/usr/local/lib/python3.11/dist-packages/keras/src/trainers/data_adapters/py_dataset_adapter.py:121: UserWarning: Your `PyDataset` class should call `super().__init__(**kwargs)` in its constructor. `**kwargs` can include `workers`, `use_multiprocessing`, `max_queue_size`. Do not pass these arguments to `fit()`, as they will be ignored.\n",
            "  self._warn_if_super_not_called()\n"
          ]
        },
        {
          "name": "stdout",
          "output_type": "stream",
          "text": [
            "Epoch 1/10\n",
            "\u001b[1m46/46\u001b[0m \u001b[32m━━━━━━━━━━━━━━━━━━━━\u001b[0m\u001b[37m\u001b[0m \u001b[1m46s\u001b[0m 762ms/step - accuracy: 0.8884 - loss: 0.1991 - val_accuracy: 0.9900 - val_loss: 0.0275\n",
            "Epoch 2/10\n",
            "\u001b[1m46/46\u001b[0m \u001b[32m━━━━━━━━━━━━━━━━━━━━\u001b[0m\u001b[37m\u001b[0m \u001b[1m20s\u001b[0m 441ms/step - accuracy: 0.9991 - loss: 0.0083 - val_accuracy: 0.9867 - val_loss: 0.0446\n",
            "Epoch 3/10\n",
            "\u001b[1m46/46\u001b[0m \u001b[32m━━━━━━━━━━━━━━━━━━━━\u001b[0m\u001b[37m\u001b[0m \u001b[1m21s\u001b[0m 444ms/step - accuracy: 0.9993 - loss: 0.0071 - val_accuracy: 0.9933 - val_loss: 0.0115\n",
            "Epoch 4/10\n",
            "\u001b[1m46/46\u001b[0m \u001b[32m━━━━━━━━━━━━━━━━━━━━\u001b[0m\u001b[37m\u001b[0m \u001b[1m21s\u001b[0m 447ms/step - accuracy: 0.9983 - loss: 0.0057 - val_accuracy: 1.0000 - val_loss: 0.0081\n",
            "Epoch 5/10\n",
            "\u001b[1m46/46\u001b[0m \u001b[32m━━━━━━━━━━━━━━━━━━━━\u001b[0m\u001b[37m\u001b[0m \u001b[1m21s\u001b[0m 447ms/step - accuracy: 0.9991 - loss: 0.0044 - val_accuracy: 1.0000 - val_loss: 0.0142\n",
            "Epoch 6/10\n",
            "\u001b[1m46/46\u001b[0m \u001b[32m━━━━━━━━━━━━━━━━━━━━\u001b[0m\u001b[37m\u001b[0m \u001b[1m41s\u001b[0m 448ms/step - accuracy: 1.0000 - loss: 0.0024 - val_accuracy: 0.9967 - val_loss: 0.0132\n",
            "Epoch 7/10\n",
            "\u001b[1m46/46\u001b[0m \u001b[32m━━━━━━━━━━━━━━━━━━━━\u001b[0m\u001b[37m\u001b[0m \u001b[1m21s\u001b[0m 447ms/step - accuracy: 1.0000 - loss: 0.0027 - val_accuracy: 1.0000 - val_loss: 0.0083\n",
            "Epoch 8/10\n",
            "\u001b[1m46/46\u001b[0m \u001b[32m━━━━━━━━━━━━━━━━━━━━\u001b[0m\u001b[37m\u001b[0m \u001b[1m20s\u001b[0m 428ms/step - accuracy: 1.0000 - loss: 9.9991e-04 - val_accuracy: 0.9933 - val_loss: 0.0103\n",
            "Epoch 9/10\n",
            "\u001b[1m46/46\u001b[0m \u001b[32m━━━━━━━━━━━━━━━━━━━━\u001b[0m\u001b[37m\u001b[0m \u001b[1m20s\u001b[0m 444ms/step - accuracy: 0.9998 - loss: 0.0023 - val_accuracy: 0.9933 - val_loss: 0.0236\n",
            "Epoch 10/10\n",
            "\u001b[1m46/46\u001b[0m \u001b[32m━━━━━━━━━━━━━━━━━━━━\u001b[0m\u001b[37m\u001b[0m \u001b[1m21s\u001b[0m 445ms/step - accuracy: 1.0000 - loss: 0.0011 - val_accuracy: 0.9967 - val_loss: 0.0133\n"
          ]
        }
      ],
      "source": [
        "model.compile(optimizer='adam',\n",
        "              loss='binary_crossentropy',\n",
        "              metrics=['accuracy'])\n",
        "\n",
        "history = model.fit(\n",
        "    train_gen,\n",
        "    validation_data=val_gen,\n",
        "    epochs=10\n",
        ")\n"
      ]
    },
    {
      "cell_type": "code",
      "execution_count": null,
      "id": "a4e94abf",
      "metadata": {
        "colab": {
          "base_uri": "https://localhost:8080/"
        },
        "id": "a4e94abf",
        "outputId": "98d03443-ae26-4e03-dea3-7c693cb85c0f"
      },
      "outputs": [
        {
          "data": {
            "text/plain": [
              "(np.int64(712), 1462)"
            ]
          },
          "execution_count": 8,
          "metadata": {},
          "output_type": "execute_result"
        }
      ],
      "source": [
        "train_gen.class_indices\n",
        "train_gen.classes.sum(), len(train_gen.classes)\n"
      ]
    },
    {
      "cell_type": "markdown",
      "id": "7jAueJGm0LZS",
      "metadata": {
        "id": "7jAueJGm0LZS"
      },
      "source": [
        "# Ejemplos de imagenes"
      ]
    },
    {
      "cell_type": "code",
      "execution_count": null,
      "id": "mErDKta2xCJD",
      "metadata": {
        "id": "mErDKta2xCJD"
      },
      "outputs": [],
      "source": [
        "class_names = list(train_gen.class_indices.keys())\n",
        "\n",
        "images, labels = next(train_gen)\n",
        "\n",
        "plt.figure(figsize=(10,10))\n",
        "for i in range(9):\n",
        "    plt.subplot(3,3,i+1)\n",
        "    plt.imshow(images[i])\n",
        "    plt.title(\"\")\n",
        "    plt.axis('off')\n",
        "plt.suptitle(\"Ejemplos de imágenes de entrenamiento\")\n",
        "plt.show()"
      ]
    },
    {
      "cell_type": "markdown",
      "id": "poBdM79c0Hr5",
      "metadata": {
        "id": "poBdM79c0Hr5"
      },
      "source": [
        "# Testeo del modelo"
      ]
    },
    {
      "cell_type": "code",
      "execution_count": null,
      "id": "5316f687",
      "metadata": {
        "id": "5316f687"
      },
      "outputs": [],
      "source": [
        "import matplotlib.pyplot as plt\n",
        "images, labels = next(train_gen)\n",
        "plt.imshow(images[0])\n",
        "print(\"Label:\", labels[0])\n"
      ]
    },
    {
      "cell_type": "code",
      "execution_count": null,
      "id": "7c5c7291",
      "metadata": {
        "colab": {
          "base_uri": "https://localhost:8080/",
          "height": 430
        },
        "id": "7c5c7291",
        "outputId": "eadb1d2f-c0e5-4b52-cefd-eb3cfde0199e"
      },
      "outputs": [
        {
          "data": {
            "image/png": "[encoded data removed]",
            "text/plain": [
              "<Figure size 640x480 with 1 Axes>"
            ]
          },
          "metadata": {},
          "output_type": "display_data"
        }
      ],
      "source": [
        "import matplotlib.pyplot as plt\n",
        "\n",
        "plt.plot(history.history['accuracy'], label='train acc')\n",
        "plt.plot(history.history['val_accuracy'], label='val acc')\n",
        "plt.plot(history.history['loss'], label='train loss')\n",
        "plt.plot(history.history['val_loss'], label='val loss')\n",
        "plt.legend()\n",
        "plt.show()\n"
      ]
    },
    {
      "cell_type": "code",
      "execution_count": null,
      "id": "a47dd0d3",
      "metadata": {
        "id": "a47dd0d3"
      },
      "outputs": [],
      "source": [
        "model.save('acne_classifier.keras')\n"
      ]
    },
    {
      "cell_type": "code",
      "execution_count": null,
      "id": "106fe903",
      "metadata": {
        "colab": {
          "base_uri": "https://localhost:8080/"
        },
        "id": "106fe903",
        "outputId": "e0fbe7ab-9c08-4ba1-bd34-47be6e242a7f"
      },
      "outputs": [
        {
          "name": "stdout",
          "output_type": "stream",
          "text": [
            "Found 300 images belonging to 2 classes.\n"
          ]
        }
      ],
      "source": [
        "from tensorflow.keras.preprocessing.image import ImageDataGenerator\n",
        "\n",
        "test_datagen = ImageDataGenerator(rescale=1./255)\n",
        "\n",
        "test_generator = test_datagen.flow_from_directory(\n",
        "    'dataset/dataset/test',\n",
        "    target_size=(224, 224),\n",
        "    batch_size=32,\n",
        "    class_mode='binary',\n",
        "    shuffle=False\n",
        ")\n"
      ]
    },
    {
      "cell_type": "markdown",
      "id": "Z2bVDs8F0bOR",
      "metadata": {
        "id": "Z2bVDs8F0bOR"
      },
      "source": [
        "# Evaluación"
      ]
    },
    {
      "cell_type": "code",
      "execution_count": null,
      "id": "5151fdba",
      "metadata": {
        "colab": {
          "base_uri": "https://localhost:8080/",
          "height": 700
        },
        "id": "5151fdba",
        "outputId": "2aafee88-3ce8-40b8-bb11-59a33744c455"
      },
      "outputs": [
        {
          "name": "stderr",
          "output_type": "stream",
          "text": [
            "/usr/local/lib/python3.11/dist-packages/keras/src/trainers/data_adapters/py_dataset_adapter.py:121: UserWarning: Your `PyDataset` class should call `super().__init__(**kwargs)` in its constructor. `**kwargs` can include `workers`, `use_multiprocessing`, `max_queue_size`. Do not pass these arguments to `fit()`, as they will be ignored.\n",
            "  self._warn_if_super_not_called()\n"
          ]
        },
        {
          "name": "stdout",
          "output_type": "stream",
          "text": [
            "\u001b[1m10/10\u001b[0m \u001b[32m━━━━━━━━━━━━━━━━━━━━\u001b[0m\u001b[37m\u001b[0m \u001b[1m7s\u001b[0m 458ms/step\n",
            "              precision    recall  f1-score   support\n",
            "\n",
            "       Clear       0.97      1.00      0.99       150\n",
            "        Acne       1.00      0.97      0.99       150\n",
            "\n",
            "    accuracy                           0.99       300\n",
            "   macro avg       0.99      0.99      0.99       300\n",
            "weighted avg       0.99      0.99      0.99       300\n",
            "\n"
          ]
        },
        {
          "data": {
            "image/png": "[encoded data removed]",
            "text/plain": [
              "<Figure size 640x480 with 2 Axes>"
            ]
          },
          "metadata": {},
          "output_type": "display_data"
        }
      ],
      "source": [
        "import numpy as np\n",
        "from sklearn.metrics import classification_report, confusion_matrix\n",
        "import matplotlib.pyplot as plt\n",
        "import seaborn as sns\n",
        "\n",
        "# Get predictions\n",
        "preds = model.predict(test_generator)\n",
        "pred_labels = (preds > 0.5).astype(\"int32\").flatten()\n",
        "\n",
        "# True labels\n",
        "true_labels = test_generator.classes\n",
        "\n",
        "# Classification report\n",
        "print(classification_report(true_labels, pred_labels, target_names=[\"Clear\", \"Acne\"]))\n",
        "\n",
        "# Confusion matrix\n",
        "cm = confusion_matrix(true_labels, pred_labels)\n",
        "sns.heatmap(cm, annot=True, fmt=\"d\", cmap=\"Blues\", xticklabels=[\"Clear\", \"Acne\"], yticklabels=[\"Clear\", \"Acne\"])\n",
        "plt.xlabel(\"Predicted\")\n",
        "plt.ylabel(\"Actual\")\n",
        "plt.title(\"Confusion Matrix\")\n",
        "plt.show()\n"
      ]
    },
    {
      "cell_type": "code",
      "execution_count": null,
      "id": "IEVlHqPvwZQB",
      "metadata": {
        "colab": {
          "base_uri": "https://localhost:8080/",
          "height": 487
        },
        "id": "IEVlHqPvwZQB",
        "outputId": "f850e418-7290-4685-d8d6-b07d7c445a62"
      },
      "outputs": [
        {
          "data": {
            "image/png": "[encoded data removed]",
            "text/plain": [
              "<Figure size 1200x500 with 2 Axes>"
            ]
          },
          "metadata": {},
          "output_type": "display_data"
        }
      ],
      "source": [
        "\n",
        "acc = history.history['accuracy']\n",
        "val_acc = history.history['val_accuracy']\n",
        "loss = history.history['loss']\n",
        "val_loss = history.history['val_loss']\n",
        "\n",
        "plt.figure(figsize=(12,5))\n",
        "plt.subplot(1,2,1)\n",
        "plt.plot(acc, label='Entrenamiento')\n",
        "plt.plot(val_acc, label='Validación')\n",
        "plt.title('Accuracy')\n",
        "plt.xlabel('Epoch')\n",
        "plt.ylabel('Accuracy')\n",
        "plt.legend()\n",
        "\n",
        "plt.subplot(1,2,2)\n",
        "plt.plot(loss, label='Entrenamiento')\n",
        "plt.plot(val_loss, label='Validación')\n",
        "plt.title('Loss')\n",
        "plt.xlabel('Epoch')\n",
        "plt.ylabel('Loss')\n",
        "plt.legend()\n",
        "\n",
        "plt.show()"
      ]
    },
    {
      "cell_type": "markdown",
      "id": "yR7dMF670DOH",
      "metadata": {
        "id": "yR7dMF670DOH"
      },
      "source": [
        "# Clasificador 2"
      ]
    },
    {
      "cell_type": "code",
      "execution_count": null,
      "id": "738efee7",
      "metadata": {
        "colab": {
          "base_uri": "https://localhost:8080/"
        },
        "id": "738efee7",
        "outputId": "02892ad5-a381-4d62-c642-c29422dcc949"
      },
      "outputs": [
        {
          "name": "stdout",
          "output_type": "stream",
          "text": [
            "\u001b[1m1/1\u001b[0m \u001b[32m━━━━━━━━━━━━━━━━━━━━\u001b[0m\u001b[37m\u001b[0m \u001b[1m0s\u001b[0m 145ms/step\n",
            "Prediction: Sin acné\n"
          ]
        }
      ],
      "source": [
        "from tensorflow.keras.preprocessing import image\n",
        "import numpy as np\n",
        "\n",
        "img = image.load_img(\"noacne.jpg\", target_size=(224, 224))\n",
        "img_array = image.img_to_array(img) / 255.0\n",
        "img_array = np.expand_dims(img_array, axis=0)\n",
        "\n",
        "prediction = model.predict(img_array)\n",
        "print(\"Prediction:\", \"Acne\" if prediction < 0.5 else \"Sin acné\")\n"
      ]
    },
    {
      "cell_type": "markdown",
      "id": "Ywbh2oPqzqUk",
      "metadata": {
        "id": "Ywbh2oPqzqUk"
      },
      "source": [
        "# Errores de clasificación del modelo"
      ]
    },
    {
      "cell_type": "code",
      "execution_count": null,
      "id": "PzbYL0h3yzcV",
      "metadata": {
        "id": "PzbYL0h3yzcV"
      },
      "outputs": [],
      "source": [
        "y_true_all = []\n",
        "y_pred_all = []\n",
        "images_all = []\n",
        "\n",
        "for i in range(len(val_gen)):\n",
        "    imgs, labels = val_gen[i]\n",
        "    preds = model.predict(imgs, verbose=0)\n",
        "\n",
        "    # Detectar si labels es one-hot o binario\n",
        "    if len(labels.shape) > 1 and labels.shape[1] > 1:\n",
        "        y_true_batch = np.argmax(labels, axis=1)\n",
        "    else:\n",
        "        y_true_batch = labels.astype(int)\n",
        "\n",
        "    y_pred_batch = np.argmax(preds, axis=1)\n",
        "\n",
        "    y_true_all.extend(y_true_batch)\n",
        "    y_pred_all.extend(y_pred_batch)\n",
        "    images_all.extend(imgs)\n",
        "\n",
        "y_true = np.array(y_true_all)\n",
        "y_pred = np.array(y_pred_all)\n",
        "images_all = np.array(images_all)\n",
        "\n",
        "wrong_idx = np.where(y_true != y_pred)[0]\n",
        "\n",
        "plt.figure(figsize=(12,12))\n",
        "for i in range(min(9, len(wrong_idx))):\n",
        "    idx = wrong_idx[i]\n",
        "    img = images_all[idx]\n",
        "    true_label = class_names[y_true[idx]]\n",
        "    pred_label = class_names[y_pred[idx]]\n",
        "    plt.subplot(3,3,i+1)\n",
        "    plt.imshow(img)\n",
        "    plt.title(f'Real: {true_label}\\\\nPred: {pred_label}')\n",
        "    plt.axis('off')\n",
        "plt.suptitle('Errores de clasificación')\n",
        "plt.show()"
      ]
    }
  ],
  "metadata": {
    "accelerator": "GPU",
    "colab": {
      "gpuType": "T4",
      "provenance": []
    },
    "kernelspec": {
      "display_name": "Python 3",
      "name": "python3"
    },
    "language_info": {
      "codemirror_mode": {
        "name": "ipython",
        "version": 3
      },
      "file_extension": ".py",
      "mimetype": "text/x-python",
      "name": "python",
      "nbconvert_exporter": "python",
      "pygments_lexer": "ipython3",
      "version": "3.12.4"
    }
  },
  "nbformat": 4,
  "nbformat_minor": 5
}
